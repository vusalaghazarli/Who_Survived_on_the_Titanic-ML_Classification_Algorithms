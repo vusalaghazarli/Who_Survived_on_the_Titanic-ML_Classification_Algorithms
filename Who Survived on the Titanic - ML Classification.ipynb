{
 "cells": [
  {
   "cell_type": "markdown",
   "id": "1a228dd2-fcb4-4dd3-89ef-91849b9147b9",
   "metadata": {},
   "source": [
    "# Who Survived on the Titanic? (ML_Classification)"
   ]
  },
  {
   "cell_type": "markdown",
   "id": "e18d132b-2ece-466d-877d-be99e4e3419c",
   "metadata": {},
   "source": [
    "I will investigate what `factors` affect `survival` mostly with a dataset of different passengers' information in titanic shipwreck. In this project machine learning `classification` algorithms will be used to predict which passengers survived the sinking of the Titanic based on features with a real dataset.\n",
    "\n",
    "To get a better understanding of the dataset some necessary modules will be imported below."
   ]
  },
  {
   "cell_type": "code",
   "execution_count": 2,
   "id": "ccc7e595-32be-43e0-9039-74710b997c57",
   "metadata": {},
   "outputs": [],
   "source": [
    "# Importing necessary libraries\n",
    "from sklearn.linear_model import LogisticRegression\n",
    "from sklearn.neighbors import KNeighborsClassifier\n",
    "from sklearn.svm import SVC\n",
    "from sklearn.tree import DecisionTreeClassifier\n",
    "from sklearn.ensemble import RandomForestClassifier\n",
    "from sklearn.model_selection import train_test_split\n",
    "from sklearn.preprocessing import StandardScaler\n",
    "from sklearn.preprocessing import LabelEncoder\n",
    "from sklearn.metrics import accuracy_score\n",
    "import pandas as pd\n",
    "import numpy as np\n",
    "import matplotlib.pyplot as plt\n",
    "import seaborn as sns\n",
    "import random"
   ]
  },
  {
   "cell_type": "markdown",
   "id": "1656b82a-f54f-43e0-ae6e-c123fa62a623",
   "metadata": {},
   "source": [
    "# Load the Data"
   ]
  },
  {
   "cell_type": "markdown",
   "id": "eb772203-9fa3-400a-865a-7826f07b5f80",
   "metadata": {},
   "source": [
    "Now, we need to upload the downloaded datasets into this program, so that our code can read the datasets and perform the necessary actions using it. I will be using Python's powerful `Pandas` library to store `train.csv` and `test.csv` datasets in a `DataFrame`s."
   ]
  },
  {
   "cell_type": "code",
   "execution_count": 3,
   "id": "eb537174-855f-4586-93dd-7e2cef0018e6",
   "metadata": {},
   "outputs": [],
   "source": [
    "# loading train data to DataFrame\n",
    "train_df = pd.read_csv('train.csv')"
   ]
  },
  {
   "cell_type": "code",
   "execution_count": 4,
   "id": "2af291eb-ab7b-4a53-98a6-16abe66b33e9",
   "metadata": {},
   "outputs": [],
   "source": [
    "# loading test data to DataFrame\n",
    "test_df = pd.read_csv('test.csv')"
   ]
  },
  {
   "cell_type": "markdown",
   "id": "3f51f770-c77d-4024-b500-a596bac651c8",
   "metadata": {},
   "source": [
    "Our datasets are now stored in the variables named `train_df` and `test_df` above. To get a brief idea about how the data is loaded, `.head()` command will be used to get a glimpse of the datasets in the form of a table."
   ]
  },
  {
   "cell_type": "code",
   "execution_count": 5,
   "id": "c6bd124c-fc65-4468-be27-279515d5b157",
   "metadata": {},
   "outputs": [
    {
     "data": {
      "text/html": [
       "<div>\n",
       "<style scoped>\n",
       "    .dataframe tbody tr th:only-of-type {\n",
       "        vertical-align: middle;\n",
       "    }\n",
       "\n",
       "    .dataframe tbody tr th {\n",
       "        vertical-align: top;\n",
       "    }\n",
       "\n",
       "    .dataframe thead th {\n",
       "        text-align: right;\n",
       "    }\n",
       "</style>\n",
       "<table border=\"1\" class=\"dataframe\">\n",
       "  <thead>\n",
       "    <tr style=\"text-align: right;\">\n",
       "      <th></th>\n",
       "      <th>PassengerId</th>\n",
       "      <th>Survived</th>\n",
       "      <th>Pclass</th>\n",
       "      <th>Name</th>\n",
       "      <th>Sex</th>\n",
       "      <th>Age</th>\n",
       "      <th>SibSp</th>\n",
       "      <th>Parch</th>\n",
       "      <th>Ticket</th>\n",
       "      <th>Fare</th>\n",
       "      <th>Cabin</th>\n",
       "      <th>Embarked</th>\n",
       "    </tr>\n",
       "  </thead>\n",
       "  <tbody>\n",
       "    <tr>\n",
       "      <th>0</th>\n",
       "      <td>1</td>\n",
       "      <td>0</td>\n",
       "      <td>3</td>\n",
       "      <td>Braund, Mr. Owen Harris</td>\n",
       "      <td>male</td>\n",
       "      <td>22.0</td>\n",
       "      <td>1</td>\n",
       "      <td>0</td>\n",
       "      <td>A/5 21171</td>\n",
       "      <td>7.2500</td>\n",
       "      <td>NaN</td>\n",
       "      <td>S</td>\n",
       "    </tr>\n",
       "    <tr>\n",
       "      <th>1</th>\n",
       "      <td>2</td>\n",
       "      <td>1</td>\n",
       "      <td>1</td>\n",
       "      <td>Cumings, Mrs. John Bradley (Florence Briggs Th...</td>\n",
       "      <td>female</td>\n",
       "      <td>38.0</td>\n",
       "      <td>1</td>\n",
       "      <td>0</td>\n",
       "      <td>PC 17599</td>\n",
       "      <td>71.2833</td>\n",
       "      <td>C85</td>\n",
       "      <td>C</td>\n",
       "    </tr>\n",
       "    <tr>\n",
       "      <th>2</th>\n",
       "      <td>3</td>\n",
       "      <td>1</td>\n",
       "      <td>3</td>\n",
       "      <td>Heikkinen, Miss. Laina</td>\n",
       "      <td>female</td>\n",
       "      <td>26.0</td>\n",
       "      <td>0</td>\n",
       "      <td>0</td>\n",
       "      <td>STON/O2. 3101282</td>\n",
       "      <td>7.9250</td>\n",
       "      <td>NaN</td>\n",
       "      <td>S</td>\n",
       "    </tr>\n",
       "    <tr>\n",
       "      <th>3</th>\n",
       "      <td>4</td>\n",
       "      <td>1</td>\n",
       "      <td>1</td>\n",
       "      <td>Futrelle, Mrs. Jacques Heath (Lily May Peel)</td>\n",
       "      <td>female</td>\n",
       "      <td>35.0</td>\n",
       "      <td>1</td>\n",
       "      <td>0</td>\n",
       "      <td>113803</td>\n",
       "      <td>53.1000</td>\n",
       "      <td>C123</td>\n",
       "      <td>S</td>\n",
       "    </tr>\n",
       "    <tr>\n",
       "      <th>4</th>\n",
       "      <td>5</td>\n",
       "      <td>0</td>\n",
       "      <td>3</td>\n",
       "      <td>Allen, Mr. William Henry</td>\n",
       "      <td>male</td>\n",
       "      <td>35.0</td>\n",
       "      <td>0</td>\n",
       "      <td>0</td>\n",
       "      <td>373450</td>\n",
       "      <td>8.0500</td>\n",
       "      <td>NaN</td>\n",
       "      <td>S</td>\n",
       "    </tr>\n",
       "  </tbody>\n",
       "</table>\n",
       "</div>"
      ],
      "text/plain": [
       "   PassengerId  Survived  Pclass  \\\n",
       "0            1         0       3   \n",
       "1            2         1       1   \n",
       "2            3         1       3   \n",
       "3            4         1       1   \n",
       "4            5         0       3   \n",
       "\n",
       "                                                Name     Sex   Age  SibSp  \\\n",
       "0                            Braund, Mr. Owen Harris    male  22.0      1   \n",
       "1  Cumings, Mrs. John Bradley (Florence Briggs Th...  female  38.0      1   \n",
       "2                             Heikkinen, Miss. Laina  female  26.0      0   \n",
       "3       Futrelle, Mrs. Jacques Heath (Lily May Peel)  female  35.0      1   \n",
       "4                           Allen, Mr. William Henry    male  35.0      0   \n",
       "\n",
       "   Parch            Ticket     Fare Cabin Embarked  \n",
       "0      0         A/5 21171   7.2500   NaN        S  \n",
       "1      0          PC 17599  71.2833   C85        C  \n",
       "2      0  STON/O2. 3101282   7.9250   NaN        S  \n",
       "3      0            113803  53.1000  C123        S  \n",
       "4      0            373450   8.0500   NaN        S  "
      ]
     },
     "execution_count": 5,
     "metadata": {},
     "output_type": "execute_result"
    }
   ],
   "source": [
    "# inspecting first five rows of train data\n",
    "train_df.head()"
   ]
  },
  {
   "cell_type": "code",
   "execution_count": 6,
   "id": "7ab7603d-4f80-4811-b443-4172c403b2d6",
   "metadata": {},
   "outputs": [
    {
     "data": {
      "text/html": [
       "<div>\n",
       "<style scoped>\n",
       "    .dataframe tbody tr th:only-of-type {\n",
       "        vertical-align: middle;\n",
       "    }\n",
       "\n",
       "    .dataframe tbody tr th {\n",
       "        vertical-align: top;\n",
       "    }\n",
       "\n",
       "    .dataframe thead th {\n",
       "        text-align: right;\n",
       "    }\n",
       "</style>\n",
       "<table border=\"1\" class=\"dataframe\">\n",
       "  <thead>\n",
       "    <tr style=\"text-align: right;\">\n",
       "      <th></th>\n",
       "      <th>PassengerId</th>\n",
       "      <th>Pclass</th>\n",
       "      <th>Name</th>\n",
       "      <th>Sex</th>\n",
       "      <th>Age</th>\n",
       "      <th>SibSp</th>\n",
       "      <th>Parch</th>\n",
       "      <th>Ticket</th>\n",
       "      <th>Fare</th>\n",
       "      <th>Cabin</th>\n",
       "      <th>Embarked</th>\n",
       "    </tr>\n",
       "  </thead>\n",
       "  <tbody>\n",
       "    <tr>\n",
       "      <th>0</th>\n",
       "      <td>892</td>\n",
       "      <td>3</td>\n",
       "      <td>Kelly, Mr. James</td>\n",
       "      <td>male</td>\n",
       "      <td>34.5</td>\n",
       "      <td>0</td>\n",
       "      <td>0</td>\n",
       "      <td>330911</td>\n",
       "      <td>7.8292</td>\n",
       "      <td>NaN</td>\n",
       "      <td>Q</td>\n",
       "    </tr>\n",
       "    <tr>\n",
       "      <th>1</th>\n",
       "      <td>893</td>\n",
       "      <td>3</td>\n",
       "      <td>Wilkes, Mrs. James (Ellen Needs)</td>\n",
       "      <td>female</td>\n",
       "      <td>47.0</td>\n",
       "      <td>1</td>\n",
       "      <td>0</td>\n",
       "      <td>363272</td>\n",
       "      <td>7.0000</td>\n",
       "      <td>NaN</td>\n",
       "      <td>S</td>\n",
       "    </tr>\n",
       "    <tr>\n",
       "      <th>2</th>\n",
       "      <td>894</td>\n",
       "      <td>2</td>\n",
       "      <td>Myles, Mr. Thomas Francis</td>\n",
       "      <td>male</td>\n",
       "      <td>62.0</td>\n",
       "      <td>0</td>\n",
       "      <td>0</td>\n",
       "      <td>240276</td>\n",
       "      <td>9.6875</td>\n",
       "      <td>NaN</td>\n",
       "      <td>Q</td>\n",
       "    </tr>\n",
       "    <tr>\n",
       "      <th>3</th>\n",
       "      <td>895</td>\n",
       "      <td>3</td>\n",
       "      <td>Wirz, Mr. Albert</td>\n",
       "      <td>male</td>\n",
       "      <td>27.0</td>\n",
       "      <td>0</td>\n",
       "      <td>0</td>\n",
       "      <td>315154</td>\n",
       "      <td>8.6625</td>\n",
       "      <td>NaN</td>\n",
       "      <td>S</td>\n",
       "    </tr>\n",
       "    <tr>\n",
       "      <th>4</th>\n",
       "      <td>896</td>\n",
       "      <td>3</td>\n",
       "      <td>Hirvonen, Mrs. Alexander (Helga E Lindqvist)</td>\n",
       "      <td>female</td>\n",
       "      <td>22.0</td>\n",
       "      <td>1</td>\n",
       "      <td>1</td>\n",
       "      <td>3101298</td>\n",
       "      <td>12.2875</td>\n",
       "      <td>NaN</td>\n",
       "      <td>S</td>\n",
       "    </tr>\n",
       "  </tbody>\n",
       "</table>\n",
       "</div>"
      ],
      "text/plain": [
       "   PassengerId  Pclass                                          Name     Sex  \\\n",
       "0          892       3                              Kelly, Mr. James    male   \n",
       "1          893       3              Wilkes, Mrs. James (Ellen Needs)  female   \n",
       "2          894       2                     Myles, Mr. Thomas Francis    male   \n",
       "3          895       3                              Wirz, Mr. Albert    male   \n",
       "4          896       3  Hirvonen, Mrs. Alexander (Helga E Lindqvist)  female   \n",
       "\n",
       "    Age  SibSp  Parch   Ticket     Fare Cabin Embarked  \n",
       "0  34.5      0      0   330911   7.8292   NaN        Q  \n",
       "1  47.0      1      0   363272   7.0000   NaN        S  \n",
       "2  62.0      0      0   240276   9.6875   NaN        Q  \n",
       "3  27.0      0      0   315154   8.6625   NaN        S  \n",
       "4  22.0      1      1  3101298  12.2875   NaN        S  "
      ]
     },
     "execution_count": 6,
     "metadata": {},
     "output_type": "execute_result"
    }
   ],
   "source": [
    "# inspecting first five rows of test data\n",
    "test_df.head()"
   ]
  },
  {
   "cell_type": "markdown",
   "id": "7ed69f9c-b6a1-410e-922e-085a002ce1a0",
   "metadata": {},
   "source": [
    "# Exploratory Data Analysis (EDA)"
   ]
  },
  {
   "cell_type": "markdown",
   "id": "deca4253-938f-49a7-9e87-990293f924d2",
   "metadata": {},
   "source": [
    "We can quickly check for data types and to make sure we do not have any missing values  which can prevent the model from running correctly by using `.info()`. As we have seen below, there are some `missing` or `NaN` values in the datasets. Some features will be removed from the datasets after checking `duplicated` and `unknown` or `NaN` values in the datasets. To do this we can use the `.duplicated().sum()` and `isna().any()` attributes to find those values on variables. The output will return to `True` if any `NaN` values will be found in the dataset, otherwise `False`. Then, let's investigate some statistical measures in a given datasets. "
   ]
  },
  {
   "cell_type": "code",
   "execution_count": 9,
   "id": "fe7a1cdc-38c4-46db-b52d-1bbd92a24944",
   "metadata": {},
   "outputs": [
    {
     "name": "stdout",
     "output_type": "stream",
     "text": [
      "<class 'pandas.core.frame.DataFrame'>\n",
      "RangeIndex: 891 entries, 0 to 890\n",
      "Data columns (total 12 columns):\n",
      " #   Column       Non-Null Count  Dtype  \n",
      "---  ------       --------------  -----  \n",
      " 0   PassengerId  891 non-null    int64  \n",
      " 1   Survived     891 non-null    int64  \n",
      " 2   Pclass       891 non-null    int64  \n",
      " 3   Name         891 non-null    object \n",
      " 4   Sex          891 non-null    object \n",
      " 5   Age          714 non-null    float64\n",
      " 6   SibSp        891 non-null    int64  \n",
      " 7   Parch        891 non-null    int64  \n",
      " 8   Ticket       891 non-null    object \n",
      " 9   Fare         891 non-null    float64\n",
      " 10  Cabin        204 non-null    object \n",
      " 11  Embarked     889 non-null    object \n",
      "dtypes: float64(2), int64(5), object(5)\n",
      "memory usage: 83.7+ KB\n"
     ]
    }
   ],
   "source": [
    "train_df.info()"
   ]
  },
  {
   "cell_type": "code",
   "execution_count": 10,
   "id": "0fc1e8a1-3d01-480d-95f7-81bb7c3bfdf8",
   "metadata": {},
   "outputs": [
    {
     "name": "stdout",
     "output_type": "stream",
     "text": [
      "<class 'pandas.core.frame.DataFrame'>\n",
      "RangeIndex: 418 entries, 0 to 417\n",
      "Data columns (total 11 columns):\n",
      " #   Column       Non-Null Count  Dtype  \n",
      "---  ------       --------------  -----  \n",
      " 0   PassengerId  418 non-null    int64  \n",
      " 1   Pclass       418 non-null    int64  \n",
      " 2   Name         418 non-null    object \n",
      " 3   Sex          418 non-null    object \n",
      " 4   Age          332 non-null    float64\n",
      " 5   SibSp        418 non-null    int64  \n",
      " 6   Parch        418 non-null    int64  \n",
      " 7   Ticket       418 non-null    object \n",
      " 8   Fare         417 non-null    float64\n",
      " 9   Cabin        91 non-null     object \n",
      " 10  Embarked     418 non-null    object \n",
      "dtypes: float64(2), int64(4), object(5)\n",
      "memory usage: 36.0+ KB\n"
     ]
    }
   ],
   "source": [
    "test_df.info()"
   ]
  },
  {
   "cell_type": "code",
   "execution_count": 11,
   "id": "40b43a28-1d73-478e-8c60-5e88ed0df0a8",
   "metadata": {},
   "outputs": [
    {
     "data": {
      "text/html": [
       "<div>\n",
       "<style scoped>\n",
       "    .dataframe tbody tr th:only-of-type {\n",
       "        vertical-align: middle;\n",
       "    }\n",
       "\n",
       "    .dataframe tbody tr th {\n",
       "        vertical-align: top;\n",
       "    }\n",
       "\n",
       "    .dataframe thead th {\n",
       "        text-align: right;\n",
       "    }\n",
       "</style>\n",
       "<table border=\"1\" class=\"dataframe\">\n",
       "  <thead>\n",
       "    <tr style=\"text-align: right;\">\n",
       "      <th></th>\n",
       "      <th>PassengerId</th>\n",
       "      <th>Survived</th>\n",
       "      <th>Pclass</th>\n",
       "      <th>Age</th>\n",
       "      <th>SibSp</th>\n",
       "      <th>Parch</th>\n",
       "      <th>Fare</th>\n",
       "    </tr>\n",
       "  </thead>\n",
       "  <tbody>\n",
       "    <tr>\n",
       "      <th>count</th>\n",
       "      <td>891.000000</td>\n",
       "      <td>891.000000</td>\n",
       "      <td>891.000000</td>\n",
       "      <td>714.000000</td>\n",
       "      <td>891.000000</td>\n",
       "      <td>891.000000</td>\n",
       "      <td>891.000000</td>\n",
       "    </tr>\n",
       "    <tr>\n",
       "      <th>mean</th>\n",
       "      <td>446.000000</td>\n",
       "      <td>0.383838</td>\n",
       "      <td>2.308642</td>\n",
       "      <td>29.699118</td>\n",
       "      <td>0.523008</td>\n",
       "      <td>0.381594</td>\n",
       "      <td>32.204208</td>\n",
       "    </tr>\n",
       "    <tr>\n",
       "      <th>std</th>\n",
       "      <td>257.353842</td>\n",
       "      <td>0.486592</td>\n",
       "      <td>0.836071</td>\n",
       "      <td>14.526497</td>\n",
       "      <td>1.102743</td>\n",
       "      <td>0.806057</td>\n",
       "      <td>49.693429</td>\n",
       "    </tr>\n",
       "    <tr>\n",
       "      <th>min</th>\n",
       "      <td>1.000000</td>\n",
       "      <td>0.000000</td>\n",
       "      <td>1.000000</td>\n",
       "      <td>0.420000</td>\n",
       "      <td>0.000000</td>\n",
       "      <td>0.000000</td>\n",
       "      <td>0.000000</td>\n",
       "    </tr>\n",
       "    <tr>\n",
       "      <th>25%</th>\n",
       "      <td>223.500000</td>\n",
       "      <td>0.000000</td>\n",
       "      <td>2.000000</td>\n",
       "      <td>20.125000</td>\n",
       "      <td>0.000000</td>\n",
       "      <td>0.000000</td>\n",
       "      <td>7.910400</td>\n",
       "    </tr>\n",
       "    <tr>\n",
       "      <th>50%</th>\n",
       "      <td>446.000000</td>\n",
       "      <td>0.000000</td>\n",
       "      <td>3.000000</td>\n",
       "      <td>28.000000</td>\n",
       "      <td>0.000000</td>\n",
       "      <td>0.000000</td>\n",
       "      <td>14.454200</td>\n",
       "    </tr>\n",
       "    <tr>\n",
       "      <th>75%</th>\n",
       "      <td>668.500000</td>\n",
       "      <td>1.000000</td>\n",
       "      <td>3.000000</td>\n",
       "      <td>38.000000</td>\n",
       "      <td>1.000000</td>\n",
       "      <td>0.000000</td>\n",
       "      <td>31.000000</td>\n",
       "    </tr>\n",
       "    <tr>\n",
       "      <th>max</th>\n",
       "      <td>891.000000</td>\n",
       "      <td>1.000000</td>\n",
       "      <td>3.000000</td>\n",
       "      <td>80.000000</td>\n",
       "      <td>8.000000</td>\n",
       "      <td>6.000000</td>\n",
       "      <td>512.329200</td>\n",
       "    </tr>\n",
       "  </tbody>\n",
       "</table>\n",
       "</div>"
      ],
      "text/plain": [
       "       PassengerId    Survived      Pclass         Age       SibSp  \\\n",
       "count   891.000000  891.000000  891.000000  714.000000  891.000000   \n",
       "mean    446.000000    0.383838    2.308642   29.699118    0.523008   \n",
       "std     257.353842    0.486592    0.836071   14.526497    1.102743   \n",
       "min       1.000000    0.000000    1.000000    0.420000    0.000000   \n",
       "25%     223.500000    0.000000    2.000000   20.125000    0.000000   \n",
       "50%     446.000000    0.000000    3.000000   28.000000    0.000000   \n",
       "75%     668.500000    1.000000    3.000000   38.000000    1.000000   \n",
       "max     891.000000    1.000000    3.000000   80.000000    8.000000   \n",
       "\n",
       "            Parch        Fare  \n",
       "count  891.000000  891.000000  \n",
       "mean     0.381594   32.204208  \n",
       "std      0.806057   49.693429  \n",
       "min      0.000000    0.000000  \n",
       "25%      0.000000    7.910400  \n",
       "50%      0.000000   14.454200  \n",
       "75%      0.000000   31.000000  \n",
       "max      6.000000  512.329200  "
      ]
     },
     "execution_count": 11,
     "metadata": {},
     "output_type": "execute_result"
    }
   ],
   "source": [
    "train_df.describe()"
   ]
  },
  {
   "cell_type": "code",
   "execution_count": 12,
   "id": "6e861096-d058-44b3-9045-d7b641881b72",
   "metadata": {},
   "outputs": [
    {
     "data": {
      "text/html": [
       "<div>\n",
       "<style scoped>\n",
       "    .dataframe tbody tr th:only-of-type {\n",
       "        vertical-align: middle;\n",
       "    }\n",
       "\n",
       "    .dataframe tbody tr th {\n",
       "        vertical-align: top;\n",
       "    }\n",
       "\n",
       "    .dataframe thead th {\n",
       "        text-align: right;\n",
       "    }\n",
       "</style>\n",
       "<table border=\"1\" class=\"dataframe\">\n",
       "  <thead>\n",
       "    <tr style=\"text-align: right;\">\n",
       "      <th></th>\n",
       "      <th>PassengerId</th>\n",
       "      <th>Pclass</th>\n",
       "      <th>Age</th>\n",
       "      <th>SibSp</th>\n",
       "      <th>Parch</th>\n",
       "      <th>Fare</th>\n",
       "    </tr>\n",
       "  </thead>\n",
       "  <tbody>\n",
       "    <tr>\n",
       "      <th>count</th>\n",
       "      <td>418.000000</td>\n",
       "      <td>418.000000</td>\n",
       "      <td>332.000000</td>\n",
       "      <td>418.000000</td>\n",
       "      <td>418.000000</td>\n",
       "      <td>417.000000</td>\n",
       "    </tr>\n",
       "    <tr>\n",
       "      <th>mean</th>\n",
       "      <td>1100.500000</td>\n",
       "      <td>2.265550</td>\n",
       "      <td>30.272590</td>\n",
       "      <td>0.447368</td>\n",
       "      <td>0.392344</td>\n",
       "      <td>35.627188</td>\n",
       "    </tr>\n",
       "    <tr>\n",
       "      <th>std</th>\n",
       "      <td>120.810458</td>\n",
       "      <td>0.841838</td>\n",
       "      <td>14.181209</td>\n",
       "      <td>0.896760</td>\n",
       "      <td>0.981429</td>\n",
       "      <td>55.907576</td>\n",
       "    </tr>\n",
       "    <tr>\n",
       "      <th>min</th>\n",
       "      <td>892.000000</td>\n",
       "      <td>1.000000</td>\n",
       "      <td>0.170000</td>\n",
       "      <td>0.000000</td>\n",
       "      <td>0.000000</td>\n",
       "      <td>0.000000</td>\n",
       "    </tr>\n",
       "    <tr>\n",
       "      <th>25%</th>\n",
       "      <td>996.250000</td>\n",
       "      <td>1.000000</td>\n",
       "      <td>21.000000</td>\n",
       "      <td>0.000000</td>\n",
       "      <td>0.000000</td>\n",
       "      <td>7.895800</td>\n",
       "    </tr>\n",
       "    <tr>\n",
       "      <th>50%</th>\n",
       "      <td>1100.500000</td>\n",
       "      <td>3.000000</td>\n",
       "      <td>27.000000</td>\n",
       "      <td>0.000000</td>\n",
       "      <td>0.000000</td>\n",
       "      <td>14.454200</td>\n",
       "    </tr>\n",
       "    <tr>\n",
       "      <th>75%</th>\n",
       "      <td>1204.750000</td>\n",
       "      <td>3.000000</td>\n",
       "      <td>39.000000</td>\n",
       "      <td>1.000000</td>\n",
       "      <td>0.000000</td>\n",
       "      <td>31.500000</td>\n",
       "    </tr>\n",
       "    <tr>\n",
       "      <th>max</th>\n",
       "      <td>1309.000000</td>\n",
       "      <td>3.000000</td>\n",
       "      <td>76.000000</td>\n",
       "      <td>8.000000</td>\n",
       "      <td>9.000000</td>\n",
       "      <td>512.329200</td>\n",
       "    </tr>\n",
       "  </tbody>\n",
       "</table>\n",
       "</div>"
      ],
      "text/plain": [
       "       PassengerId      Pclass         Age       SibSp       Parch        Fare\n",
       "count   418.000000  418.000000  332.000000  418.000000  418.000000  417.000000\n",
       "mean   1100.500000    2.265550   30.272590    0.447368    0.392344   35.627188\n",
       "std     120.810458    0.841838   14.181209    0.896760    0.981429   55.907576\n",
       "min     892.000000    1.000000    0.170000    0.000000    0.000000    0.000000\n",
       "25%     996.250000    1.000000   21.000000    0.000000    0.000000    7.895800\n",
       "50%    1100.500000    3.000000   27.000000    0.000000    0.000000   14.454200\n",
       "75%    1204.750000    3.000000   39.000000    1.000000    0.000000   31.500000\n",
       "max    1309.000000    3.000000   76.000000    8.000000    9.000000  512.329200"
      ]
     },
     "execution_count": 12,
     "metadata": {},
     "output_type": "execute_result"
    }
   ],
   "source": [
    "test_df.describe()"
   ]
  },
  {
   "cell_type": "code",
   "execution_count": 13,
   "id": "24fb9aaa-435b-4bfa-8ab2-7ee59a0853fd",
   "metadata": {},
   "outputs": [
    {
     "data": {
      "text/plain": [
       "0"
      ]
     },
     "execution_count": 13,
     "metadata": {},
     "output_type": "execute_result"
    }
   ],
   "source": [
    "# checking duplicated values for train data\n",
    "train_df.duplicated(subset = train_df.columns).sum()"
   ]
  },
  {
   "cell_type": "code",
   "execution_count": 14,
   "id": "775f89bd-9724-4177-88d1-7f151962e44a",
   "metadata": {},
   "outputs": [
    {
     "data": {
      "text/plain": [
       "0"
      ]
     },
     "execution_count": 14,
     "metadata": {},
     "output_type": "execute_result"
    }
   ],
   "source": [
    "# checking duplicated values for test data\n",
    "test_df.duplicated(subset = test_df.columns).sum()"
   ]
  },
  {
   "cell_type": "code",
   "execution_count": 15,
   "id": "939e238d-7264-4a17-a44a-e56ffaeeaeab",
   "metadata": {},
   "outputs": [
    {
     "data": {
      "text/plain": [
       "PassengerId    False\n",
       "Survived       False\n",
       "Pclass         False\n",
       "Name           False\n",
       "Sex            False\n",
       "Age             True\n",
       "SibSp          False\n",
       "Parch          False\n",
       "Ticket         False\n",
       "Fare           False\n",
       "Cabin           True\n",
       "Embarked        True\n",
       "dtype: bool"
      ]
     },
     "execution_count": 15,
     "metadata": {},
     "output_type": "execute_result"
    }
   ],
   "source": [
    "# checking missing values for train data\n",
    "train_df.isna().any()"
   ]
  },
  {
   "cell_type": "code",
   "execution_count": 16,
   "id": "73a4f297-7fd2-4b47-8a05-3fb114f1b9cc",
   "metadata": {},
   "outputs": [
    {
     "data": {
      "text/plain": [
       "PassengerId    False\n",
       "Pclass         False\n",
       "Name           False\n",
       "Sex            False\n",
       "Age             True\n",
       "SibSp          False\n",
       "Parch          False\n",
       "Ticket         False\n",
       "Fare            True\n",
       "Cabin           True\n",
       "Embarked       False\n",
       "dtype: bool"
      ]
     },
     "execution_count": 16,
     "metadata": {},
     "output_type": "execute_result"
    }
   ],
   "source": [
    "# checking missing values for test data\n",
    "test_df.isna().any()"
   ]
  },
  {
   "cell_type": "markdown",
   "id": "29bc721f-bc5b-40ba-ae93-7c2453d511e1",
   "metadata": {},
   "source": [
    "<b> After seeing `NaN` values on `Age` variable in `training` and `test` datasets, `.replace()` method will be used to replace those values with the `mean` of the passengers' `Ages`. "
   ]
  },
  {
   "cell_type": "code",
   "execution_count": 17,
   "id": "ab745e46-2120-440c-8bb6-82e691928138",
   "metadata": {},
   "outputs": [],
   "source": [
    "# finding mean of ages for training data\n",
    "tr_ages_mean = train_df.Age.mean()"
   ]
  },
  {
   "cell_type": "code",
   "execution_count": 18,
   "id": "3ff83a71-9fac-4e27-a8d3-3abe7a3f03f8",
   "metadata": {},
   "outputs": [],
   "source": [
    "# replacing NaN values for training data\n",
    "train_df.Age.replace(np.nan, tr_ages_mean, inplace = True)"
   ]
  },
  {
   "cell_type": "code",
   "execution_count": 19,
   "id": "74385ebc-fe4b-4a53-bb99-c32877e4d31b",
   "metadata": {},
   "outputs": [
    {
     "data": {
      "text/plain": [
       "0"
      ]
     },
     "execution_count": 19,
     "metadata": {},
     "output_type": "execute_result"
    }
   ],
   "source": [
    "# checking NaN values after replacing\n",
    "train_df.Age.isna().sum()"
   ]
  },
  {
   "cell_type": "code",
   "execution_count": 20,
   "id": "2fdaf19f-7b7b-41b6-8503-eed9fd006c6e",
   "metadata": {},
   "outputs": [],
   "source": [
    "# finding mean of ages for test data \n",
    "te_ages_mean = test_df.Age.mean()"
   ]
  },
  {
   "cell_type": "code",
   "execution_count": 21,
   "id": "4890c64a-5ee3-4899-8c33-5e031a96142b",
   "metadata": {},
   "outputs": [],
   "source": [
    "test_df.Age.replace(np.nan, te_ages_mean, inplace = True)"
   ]
  },
  {
   "cell_type": "code",
   "execution_count": 22,
   "id": "03524d05-dd95-4891-ace2-33c950bc2a87",
   "metadata": {},
   "outputs": [
    {
     "data": {
      "text/plain": [
       "0"
      ]
     },
     "execution_count": 22,
     "metadata": {},
     "output_type": "execute_result"
    }
   ],
   "source": [
    "# checking NaN values after replacing\n",
    "test_df.Age.isna().sum()"
   ]
  },
  {
   "cell_type": "markdown",
   "id": "d016394f-6aef-4c52-ab21-20ad19f01f42",
   "metadata": {},
   "source": [
    "<b> After seeing `NaN` values on `Embarked` variable in `training data`, `Pandas` helpful `value_counts()` will be used to check the most frequent values on Embarked variable. We can see that 'S' embarkation was described as a higher value in a variable. Then, the `.fillna()` method will be used to replace those `NaN` values with the `most frequent value`."
   ]
  },
  {
   "cell_type": "code",
   "execution_count": 23,
   "id": "7fe57161-e1ce-4686-82d6-4264cd925e2c",
   "metadata": {},
   "outputs": [],
   "source": [
    "# checking embarkments in traning data\n",
    "emb_counts = train_df['Embarked'].value_counts()"
   ]
  },
  {
   "cell_type": "code",
   "execution_count": 24,
   "id": "9a20e0f9-ceae-4edf-95ca-d48bbe0ddbf4",
   "metadata": {},
   "outputs": [
    {
     "data": {
      "text/plain": [
       "S    644\n",
       "C    168\n",
       "Q     77\n",
       "Name: Embarked, dtype: int64"
      ]
     },
     "execution_count": 24,
     "metadata": {},
     "output_type": "execute_result"
    }
   ],
   "source": [
    "emb_counts"
   ]
  },
  {
   "cell_type": "code",
   "execution_count": 25,
   "id": "70daa948-e8ea-4871-a0e1-a2e002344a45",
   "metadata": {},
   "outputs": [],
   "source": [
    "# creating most frequent value\n",
    "most_frequent_val = emb_counts.index[0]"
   ]
  },
  {
   "cell_type": "code",
   "execution_count": 26,
   "id": "8c7e65aa-a98a-4dc4-a8d3-ea04eab0c26f",
   "metadata": {},
   "outputs": [],
   "source": [
    "# replacing NaN values for training data\n",
    "train_df['Embarked'] = train_df['Embarked'].fillna(most_frequent_val)"
   ]
  },
  {
   "cell_type": "code",
   "execution_count": 27,
   "id": "40cc3864-f577-440a-b0f5-164dd8668373",
   "metadata": {},
   "outputs": [
    {
     "data": {
      "text/plain": [
       "0"
      ]
     },
     "execution_count": 27,
     "metadata": {},
     "output_type": "execute_result"
    }
   ],
   "source": [
    "# checking NaN values after replacing\n",
    "train_df.Embarked.isna().sum()"
   ]
  },
  {
   "cell_type": "markdown",
   "id": "713e4cb4-7bf3-4156-b426-00a171843cdd",
   "metadata": {},
   "source": [
    "<b> Then `NaN` values in `Fare` variable of `test data` will be replaced by mean of the `Fares` in a test data."
   ]
  },
  {
   "cell_type": "code",
   "execution_count": 28,
   "id": "30501881-866a-44d9-8b6b-fee732297ff7",
   "metadata": {},
   "outputs": [],
   "source": [
    "# finding mean of fares for test data\n",
    "te_fare_mean = test_df.Fare.mean()"
   ]
  },
  {
   "cell_type": "code",
   "execution_count": 29,
   "id": "11b468b9-ca57-4a37-bd8f-be83bed41424",
   "metadata": {},
   "outputs": [],
   "source": [
    "# replacing NaN values for test data\n",
    "test_df.Fare.replace(np.nan, te_fare_mean, inplace = True)"
   ]
  },
  {
   "cell_type": "code",
   "execution_count": 30,
   "id": "cd6133f0-e364-4029-9eab-476083cf839d",
   "metadata": {},
   "outputs": [
    {
     "data": {
      "text/plain": [
       "0"
      ]
     },
     "execution_count": 30,
     "metadata": {},
     "output_type": "execute_result"
    }
   ],
   "source": [
    "test_df.Fare.isna().sum()"
   ]
  },
  {
   "cell_type": "markdown",
   "id": "741a42cc-7e3f-4b3c-9cac-97a80a6d8a63",
   "metadata": {},
   "source": [
    "# Feature Engineering"
   ]
  },
  {
   "cell_type": "markdown",
   "id": "df1a2e3f-84df-452f-a050-231f2e91dd89",
   "metadata": {},
   "source": [
    "`Feature` `Engineering` refers to the process by which we choose the important `features` (or columns) to look at, and make the appropriate transformations to prepare our data for our model. After checking the `Sex` variable in `train.csv` and `test.csv` datasets I am going to use `label` `encoder` class to convert `features` into a numeric form as `0` for `female` and `1` for `male` by using `scikit-learn` library. The same process will be used again for the `Embarked` variable as `0` for `C`, to `1` for `Q` and to `2` for `S` embarkments for both datasets.\n",
    "\n",
    "We might try:\n",
    "- `Label Encoding of Datasets`\n",
    "- `Removing Unnecessary Columns`\n",
    "- `Data Visualization`\n",
    "- `Select and Split the Data`\n",
    "- `Normalizing or Standardizing the Data`"
   ]
  },
  {
   "cell_type": "markdown",
   "id": "32e3230c-b110-4ced-b1bc-1ac19aa9ec02",
   "metadata": {},
   "source": [
    "<b> Label Encoding of Datasets:"
   ]
  },
  {
   "cell_type": "code",
   "execution_count": 31,
   "id": "04a2b8f6-c91c-421a-9cc1-e18a829519c5",
   "metadata": {},
   "outputs": [],
   "source": [
    "# creating encoder object\n",
    "encoder = LabelEncoder()"
   ]
  },
  {
   "cell_type": "code",
   "execution_count": 32,
   "id": "e9274c5d-36d9-4630-8e5e-554a928841e0",
   "metadata": {},
   "outputs": [],
   "source": [
    "# encoding variable for training data\n",
    "train_df['Sex'] = encoder.fit_transform(train_df['Sex'])"
   ]
  },
  {
   "cell_type": "code",
   "execution_count": 33,
   "id": "6623e88a-3118-439c-9d9c-ee4f479b49d0",
   "metadata": {},
   "outputs": [],
   "source": [
    "# encoding variable for training data\n",
    "train_df['Embarked'] = encoder.fit_transform(train_df['Embarked'])"
   ]
  },
  {
   "cell_type": "code",
   "execution_count": 34,
   "id": "8f9e4515-a005-43de-8322-c0f0c6b8e29d",
   "metadata": {},
   "outputs": [],
   "source": [
    "# encoding variable for test data\n",
    "test_df['Sex'] = encoder.fit_transform(test_df['Sex'])"
   ]
  },
  {
   "cell_type": "code",
   "execution_count": 35,
   "id": "3ac1c65f-6b73-4632-b1e3-bc5954895438",
   "metadata": {},
   "outputs": [],
   "source": [
    "# encoding variable for test data\n",
    "test_df['Embarked'] = encoder.fit_transform(test_df['Embarked'])"
   ]
  },
  {
   "cell_type": "markdown",
   "id": "dc884ae5-46f4-4a5b-83ef-1bb014563edb",
   "metadata": {},
   "source": [
    "<b> Removing Unnecessary Columns:"
   ]
  },
  {
   "cell_type": "code",
   "execution_count": 36,
   "id": "9a61a445-debc-49d0-af91-fc7865d8eabd",
   "metadata": {},
   "outputs": [],
   "source": [
    "# creating indexes for test data before removing\n",
    "pred_indexes = np.array(test_df['PassengerId'])"
   ]
  },
  {
   "cell_type": "code",
   "execution_count": 40,
   "id": "2fa5134a-5a2e-4897-8bc9-c112e2c031b5",
   "metadata": {
    "tags": []
   },
   "outputs": [],
   "source": [
    "tr_fts_to_remove = train_df[['PassengerId','Name', 'Ticket', 'Cabin']]"
   ]
  },
  {
   "cell_type": "code",
   "execution_count": 41,
   "id": "aff3c1bb-faf9-4f62-ba67-7f4ee06209f3",
   "metadata": {},
   "outputs": [],
   "source": [
    "# removing features for training data\n",
    "train_df.drop(tr_fts_to_remove, axis = 1, inplace = True)"
   ]
  },
  {
   "cell_type": "code",
   "execution_count": 42,
   "id": "26e71ac2-9b89-40bb-8808-cf83a25051b4",
   "metadata": {},
   "outputs": [
    {
     "data": {
      "text/html": [
       "<div>\n",
       "<style scoped>\n",
       "    .dataframe tbody tr th:only-of-type {\n",
       "        vertical-align: middle;\n",
       "    }\n",
       "\n",
       "    .dataframe tbody tr th {\n",
       "        vertical-align: top;\n",
       "    }\n",
       "\n",
       "    .dataframe thead th {\n",
       "        text-align: right;\n",
       "    }\n",
       "</style>\n",
       "<table border=\"1\" class=\"dataframe\">\n",
       "  <thead>\n",
       "    <tr style=\"text-align: right;\">\n",
       "      <th></th>\n",
       "      <th>Survived</th>\n",
       "      <th>Pclass</th>\n",
       "      <th>Sex</th>\n",
       "      <th>Age</th>\n",
       "      <th>SibSp</th>\n",
       "      <th>Parch</th>\n",
       "      <th>Fare</th>\n",
       "      <th>Embarked</th>\n",
       "    </tr>\n",
       "  </thead>\n",
       "  <tbody>\n",
       "    <tr>\n",
       "      <th>0</th>\n",
       "      <td>0</td>\n",
       "      <td>3</td>\n",
       "      <td>1</td>\n",
       "      <td>22.000000</td>\n",
       "      <td>1</td>\n",
       "      <td>0</td>\n",
       "      <td>7.2500</td>\n",
       "      <td>2</td>\n",
       "    </tr>\n",
       "    <tr>\n",
       "      <th>1</th>\n",
       "      <td>1</td>\n",
       "      <td>1</td>\n",
       "      <td>0</td>\n",
       "      <td>38.000000</td>\n",
       "      <td>1</td>\n",
       "      <td>0</td>\n",
       "      <td>71.2833</td>\n",
       "      <td>0</td>\n",
       "    </tr>\n",
       "    <tr>\n",
       "      <th>2</th>\n",
       "      <td>1</td>\n",
       "      <td>3</td>\n",
       "      <td>0</td>\n",
       "      <td>26.000000</td>\n",
       "      <td>0</td>\n",
       "      <td>0</td>\n",
       "      <td>7.9250</td>\n",
       "      <td>2</td>\n",
       "    </tr>\n",
       "    <tr>\n",
       "      <th>3</th>\n",
       "      <td>1</td>\n",
       "      <td>1</td>\n",
       "      <td>0</td>\n",
       "      <td>35.000000</td>\n",
       "      <td>1</td>\n",
       "      <td>0</td>\n",
       "      <td>53.1000</td>\n",
       "      <td>2</td>\n",
       "    </tr>\n",
       "    <tr>\n",
       "      <th>4</th>\n",
       "      <td>0</td>\n",
       "      <td>3</td>\n",
       "      <td>1</td>\n",
       "      <td>35.000000</td>\n",
       "      <td>0</td>\n",
       "      <td>0</td>\n",
       "      <td>8.0500</td>\n",
       "      <td>2</td>\n",
       "    </tr>\n",
       "    <tr>\n",
       "      <th>...</th>\n",
       "      <td>...</td>\n",
       "      <td>...</td>\n",
       "      <td>...</td>\n",
       "      <td>...</td>\n",
       "      <td>...</td>\n",
       "      <td>...</td>\n",
       "      <td>...</td>\n",
       "      <td>...</td>\n",
       "    </tr>\n",
       "    <tr>\n",
       "      <th>886</th>\n",
       "      <td>0</td>\n",
       "      <td>2</td>\n",
       "      <td>1</td>\n",
       "      <td>27.000000</td>\n",
       "      <td>0</td>\n",
       "      <td>0</td>\n",
       "      <td>13.0000</td>\n",
       "      <td>2</td>\n",
       "    </tr>\n",
       "    <tr>\n",
       "      <th>887</th>\n",
       "      <td>1</td>\n",
       "      <td>1</td>\n",
       "      <td>0</td>\n",
       "      <td>19.000000</td>\n",
       "      <td>0</td>\n",
       "      <td>0</td>\n",
       "      <td>30.0000</td>\n",
       "      <td>2</td>\n",
       "    </tr>\n",
       "    <tr>\n",
       "      <th>888</th>\n",
       "      <td>0</td>\n",
       "      <td>3</td>\n",
       "      <td>0</td>\n",
       "      <td>29.699118</td>\n",
       "      <td>1</td>\n",
       "      <td>2</td>\n",
       "      <td>23.4500</td>\n",
       "      <td>2</td>\n",
       "    </tr>\n",
       "    <tr>\n",
       "      <th>889</th>\n",
       "      <td>1</td>\n",
       "      <td>1</td>\n",
       "      <td>1</td>\n",
       "      <td>26.000000</td>\n",
       "      <td>0</td>\n",
       "      <td>0</td>\n",
       "      <td>30.0000</td>\n",
       "      <td>0</td>\n",
       "    </tr>\n",
       "    <tr>\n",
       "      <th>890</th>\n",
       "      <td>0</td>\n",
       "      <td>3</td>\n",
       "      <td>1</td>\n",
       "      <td>32.000000</td>\n",
       "      <td>0</td>\n",
       "      <td>0</td>\n",
       "      <td>7.7500</td>\n",
       "      <td>1</td>\n",
       "    </tr>\n",
       "  </tbody>\n",
       "</table>\n",
       "<p>891 rows × 8 columns</p>\n",
       "</div>"
      ],
      "text/plain": [
       "     Survived  Pclass  Sex        Age  SibSp  Parch     Fare  Embarked\n",
       "0           0       3    1  22.000000      1      0   7.2500         2\n",
       "1           1       1    0  38.000000      1      0  71.2833         0\n",
       "2           1       3    0  26.000000      0      0   7.9250         2\n",
       "3           1       1    0  35.000000      1      0  53.1000         2\n",
       "4           0       3    1  35.000000      0      0   8.0500         2\n",
       "..        ...     ...  ...        ...    ...    ...      ...       ...\n",
       "886         0       2    1  27.000000      0      0  13.0000         2\n",
       "887         1       1    0  19.000000      0      0  30.0000         2\n",
       "888         0       3    0  29.699118      1      2  23.4500         2\n",
       "889         1       1    1  26.000000      0      0  30.0000         0\n",
       "890         0       3    1  32.000000      0      0   7.7500         1\n",
       "\n",
       "[891 rows x 8 columns]"
      ]
     },
     "execution_count": 42,
     "metadata": {},
     "output_type": "execute_result"
    }
   ],
   "source": [
    "train_df"
   ]
  },
  {
   "cell_type": "code",
   "execution_count": 43,
   "id": "6a7c6706-8b8f-4aa9-9898-907c9ca50d29",
   "metadata": {},
   "outputs": [],
   "source": [
    "te_fts_to_remove = test_df[['PassengerId','Name', 'Ticket', 'Cabin']]"
   ]
  },
  {
   "cell_type": "code",
   "execution_count": 44,
   "id": "85891eaf-e55f-4c50-a938-407b30f8223e",
   "metadata": {},
   "outputs": [],
   "source": [
    "# removing features for test data\n",
    "test_df.drop(te_fts_to_remove, axis = 1, inplace = True)"
   ]
  },
  {
   "cell_type": "code",
   "execution_count": 45,
   "id": "1aa58b67-ad23-42f9-807c-5eb71b782792",
   "metadata": {},
   "outputs": [
    {
     "data": {
      "text/html": [
       "<div>\n",
       "<style scoped>\n",
       "    .dataframe tbody tr th:only-of-type {\n",
       "        vertical-align: middle;\n",
       "    }\n",
       "\n",
       "    .dataframe tbody tr th {\n",
       "        vertical-align: top;\n",
       "    }\n",
       "\n",
       "    .dataframe thead th {\n",
       "        text-align: right;\n",
       "    }\n",
       "</style>\n",
       "<table border=\"1\" class=\"dataframe\">\n",
       "  <thead>\n",
       "    <tr style=\"text-align: right;\">\n",
       "      <th></th>\n",
       "      <th>Pclass</th>\n",
       "      <th>Sex</th>\n",
       "      <th>Age</th>\n",
       "      <th>SibSp</th>\n",
       "      <th>Parch</th>\n",
       "      <th>Fare</th>\n",
       "      <th>Embarked</th>\n",
       "    </tr>\n",
       "  </thead>\n",
       "  <tbody>\n",
       "    <tr>\n",
       "      <th>0</th>\n",
       "      <td>3</td>\n",
       "      <td>1</td>\n",
       "      <td>34.50000</td>\n",
       "      <td>0</td>\n",
       "      <td>0</td>\n",
       "      <td>7.8292</td>\n",
       "      <td>1</td>\n",
       "    </tr>\n",
       "    <tr>\n",
       "      <th>1</th>\n",
       "      <td>3</td>\n",
       "      <td>0</td>\n",
       "      <td>47.00000</td>\n",
       "      <td>1</td>\n",
       "      <td>0</td>\n",
       "      <td>7.0000</td>\n",
       "      <td>2</td>\n",
       "    </tr>\n",
       "    <tr>\n",
       "      <th>2</th>\n",
       "      <td>2</td>\n",
       "      <td>1</td>\n",
       "      <td>62.00000</td>\n",
       "      <td>0</td>\n",
       "      <td>0</td>\n",
       "      <td>9.6875</td>\n",
       "      <td>1</td>\n",
       "    </tr>\n",
       "    <tr>\n",
       "      <th>3</th>\n",
       "      <td>3</td>\n",
       "      <td>1</td>\n",
       "      <td>27.00000</td>\n",
       "      <td>0</td>\n",
       "      <td>0</td>\n",
       "      <td>8.6625</td>\n",
       "      <td>2</td>\n",
       "    </tr>\n",
       "    <tr>\n",
       "      <th>4</th>\n",
       "      <td>3</td>\n",
       "      <td>0</td>\n",
       "      <td>22.00000</td>\n",
       "      <td>1</td>\n",
       "      <td>1</td>\n",
       "      <td>12.2875</td>\n",
       "      <td>2</td>\n",
       "    </tr>\n",
       "    <tr>\n",
       "      <th>...</th>\n",
       "      <td>...</td>\n",
       "      <td>...</td>\n",
       "      <td>...</td>\n",
       "      <td>...</td>\n",
       "      <td>...</td>\n",
       "      <td>...</td>\n",
       "      <td>...</td>\n",
       "    </tr>\n",
       "    <tr>\n",
       "      <th>413</th>\n",
       "      <td>3</td>\n",
       "      <td>1</td>\n",
       "      <td>30.27259</td>\n",
       "      <td>0</td>\n",
       "      <td>0</td>\n",
       "      <td>8.0500</td>\n",
       "      <td>2</td>\n",
       "    </tr>\n",
       "    <tr>\n",
       "      <th>414</th>\n",
       "      <td>1</td>\n",
       "      <td>0</td>\n",
       "      <td>39.00000</td>\n",
       "      <td>0</td>\n",
       "      <td>0</td>\n",
       "      <td>108.9000</td>\n",
       "      <td>0</td>\n",
       "    </tr>\n",
       "    <tr>\n",
       "      <th>415</th>\n",
       "      <td>3</td>\n",
       "      <td>1</td>\n",
       "      <td>38.50000</td>\n",
       "      <td>0</td>\n",
       "      <td>0</td>\n",
       "      <td>7.2500</td>\n",
       "      <td>2</td>\n",
       "    </tr>\n",
       "    <tr>\n",
       "      <th>416</th>\n",
       "      <td>3</td>\n",
       "      <td>1</td>\n",
       "      <td>30.27259</td>\n",
       "      <td>0</td>\n",
       "      <td>0</td>\n",
       "      <td>8.0500</td>\n",
       "      <td>2</td>\n",
       "    </tr>\n",
       "    <tr>\n",
       "      <th>417</th>\n",
       "      <td>3</td>\n",
       "      <td>1</td>\n",
       "      <td>30.27259</td>\n",
       "      <td>1</td>\n",
       "      <td>1</td>\n",
       "      <td>22.3583</td>\n",
       "      <td>0</td>\n",
       "    </tr>\n",
       "  </tbody>\n",
       "</table>\n",
       "<p>418 rows × 7 columns</p>\n",
       "</div>"
      ],
      "text/plain": [
       "     Pclass  Sex       Age  SibSp  Parch      Fare  Embarked\n",
       "0         3    1  34.50000      0      0    7.8292         1\n",
       "1         3    0  47.00000      1      0    7.0000         2\n",
       "2         2    1  62.00000      0      0    9.6875         1\n",
       "3         3    1  27.00000      0      0    8.6625         2\n",
       "4         3    0  22.00000      1      1   12.2875         2\n",
       "..      ...  ...       ...    ...    ...       ...       ...\n",
       "413       3    1  30.27259      0      0    8.0500         2\n",
       "414       1    0  39.00000      0      0  108.9000         0\n",
       "415       3    1  38.50000      0      0    7.2500         2\n",
       "416       3    1  30.27259      0      0    8.0500         2\n",
       "417       3    1  30.27259      1      1   22.3583         0\n",
       "\n",
       "[418 rows x 7 columns]"
      ]
     },
     "execution_count": 45,
     "metadata": {},
     "output_type": "execute_result"
    }
   ],
   "source": [
    "test_df"
   ]
  },
  {
   "cell_type": "markdown",
   "id": "e1308f52-bf48-4e98-a314-0e4ab062e267",
   "metadata": {},
   "source": [
    "Let's check both datasets for `Nan` values lastly"
   ]
  },
  {
   "cell_type": "code",
   "execution_count": 46,
   "id": "b968003b-566d-42d3-b6aa-ba3d379a386d",
   "metadata": {},
   "outputs": [
    {
     "name": "stdout",
     "output_type": "stream",
     "text": [
      "Training data NaN values: \n",
      " Survived    0\n",
      "Pclass      0\n",
      "Sex         0\n",
      "Age         0\n",
      "SibSp       0\n",
      "Parch       0\n",
      "Fare        0\n",
      "Embarked    0\n",
      "dtype: int64\n"
     ]
    }
   ],
   "source": [
    "print(\"Training data NaN values: \\n\",train_df.isna().sum())"
   ]
  },
  {
   "cell_type": "code",
   "execution_count": 47,
   "id": "c686f771-a4c8-4692-816a-2ea481c2a58b",
   "metadata": {},
   "outputs": [
    {
     "name": "stdout",
     "output_type": "stream",
     "text": [
      "Test data NaN values: \n",
      " Pclass      0\n",
      "Sex         0\n",
      "Age         0\n",
      "SibSp       0\n",
      "Parch       0\n",
      "Fare        0\n",
      "Embarked    0\n",
      "dtype: int64\n"
     ]
    }
   ],
   "source": [
    "print('Test data NaN values: \\n', test_df.isna().sum())"
   ]
  },
  {
   "cell_type": "markdown",
   "id": "c4be46d5-92ee-4ce2-8b97-6237cfd3e345",
   "metadata": {},
   "source": [
    "<b>Data Visualization:"
   ]
  },
  {
   "cell_type": "markdown",
   "id": "2e7c29b6-d78b-4dd4-ab88-c603bf58fdba",
   "metadata": {},
   "source": [
    "<b>Similar to linear regression, some classification models assume no `multicollinearity` in the data, meaning that two highly correlated `predictors` should not be included in the model. We can check this `assumption` by looking at a `correlation heatmap`. Pandas helpful `.corr()` method allows us to see the correlation coefficients for each pair of different features of the `train` and `test` datasets. There is no set value for what counts as `highly correlated`, however a general rule is a correlation of `0.7 (or -0.7)`. There are no pairs of features with a correlation of `0.7` or `higher`, so we do not need to consider leaving any features out of our model based on multicollinearity."
   ]
  },
  {
   "cell_type": "code",
   "execution_count": 48,
   "id": "6809355b-a39c-4a91-9341-4469a980e678",
   "metadata": {},
   "outputs": [
    {
     "data": {
      "image/png": "[encoded data removed]",
      "text/plain": [
       "<Figure size 720x432 with 2 Axes>"
      ]
     },
     "metadata": {
      "needs_background": "light"
     },
     "output_type": "display_data"
    }
   ],
   "source": [
    "# correlation heatmap for train data\n",
    "plt.figure(figsize = (10, 6))\n",
    "\n",
    "sns.heatmap(train_df.corr(), \n",
    "            vmin = -1, center = 0, vmax = 1,\n",
    "            annot = True, cmap = 'YlGnBu', linewidth = .5)\n",
    "\n",
    "plt.show()"
   ]
  },
  {
   "cell_type": "code",
   "execution_count": 49,
   "id": "7fba83d9-517d-4886-9c83-ac18664254af",
   "metadata": {},
   "outputs": [
    {
     "data": {
      "image/png": "[encoded data removed]",
      "text/plain": [
       "<Figure size 720x432 with 2 Axes>"
      ]
     },
     "metadata": {
      "needs_background": "light"
     },
     "output_type": "display_data"
    }
   ],
   "source": [
    "# correlation heat map for test data\n",
    "plt.figure(figsize = (10, 6))\n",
    "\n",
    "sns.heatmap(test_df.corr(), \n",
    "            vmin = -1, center = 0, vmax = 1,\n",
    "            annot = True, cmap = 'YlGnBu', linewidth = .5)\n",
    "\n",
    "plt.show()"
   ]
  },
  {
   "cell_type": "markdown",
   "id": "9361d0ef-247c-4348-969b-ccfe8b5ac544",
   "metadata": {},
   "source": [
    "<b> Boxplots for Train Data:"
   ]
  },
  {
   "cell_type": "code",
   "execution_count": 50,
   "id": "84c6b838-2279-4da3-b19f-6465d57bf7cb",
   "metadata": {},
   "outputs": [
    {
     "data": {
      "image/png": "[encoded data removed]",
      "text/plain": [
       "<Figure size 1080x720 with 4 Axes>"
      ]
     },
     "metadata": {
      "needs_background": "light"
     },
     "output_type": "display_data"
    }
   ],
   "source": [
    "fig, ax = plt.subplots(2, 2, figsize = (15, 10))\n",
    "\n",
    "sns.boxplot(x = 'Sex', y = 'Age', hue = 'Survived', data = train_df, ax = ax[0][0])\n",
    "sns.boxplot(x = 'Sex', y = 'Fare', hue = 'Survived', data = train_df, ax = ax[0][1])\n",
    "sns.boxplot(x = 'Pclass', y = 'Age', hue = 'Survived', data = train_df, ax = ax[1][0])\n",
    "sns.boxplot(x = 'Pclass', y = 'Fare', hue = 'Survived', data = train_df, ax = ax[1][1])\n",
    "\n",
    "plt.show()"
   ]
  },
  {
   "cell_type": "markdown",
   "id": "33241873-7d5a-470f-99a3-fe343ba9c7d0",
   "metadata": {},
   "source": [
    "<b> Countplots for Train Data:"
   ]
  },
  {
   "cell_type": "code",
   "execution_count": 51,
   "id": "a55f3aff-8d8a-4b96-b065-4a4d2e93264c",
   "metadata": {},
   "outputs": [
    {
     "data": {
      "image/png": "[encoded data removed]",
      "text/plain": [
       "<Figure size 1080x360 with 3 Axes>"
      ]
     },
     "metadata": {
      "needs_background": "light"
     },
     "output_type": "display_data"
    }
   ],
   "source": [
    "fig, ax = plt.subplots(1, 3, figsize = (15, 5))\n",
    "\n",
    "sns.countplot(x = 'Pclass', hue = 'Survived', data = train_df, ax = ax[0])\n",
    "sns.countplot(x = 'Sex', hue = 'Survived', data = train_df, ax = ax[1])\n",
    "sns.countplot(x = 'Embarked', hue = 'Survived', data = train_df, ax = ax[2])\n",
    "\n",
    "plt.show()"
   ]
  },
  {
   "cell_type": "code",
   "execution_count": 52,
   "id": "c3ae7dfe-4072-4f18-a806-8662ed5451b6",
   "metadata": {},
   "outputs": [
    {
     "data": {
      "image/png": "[encoded data removed]",
      "text/plain": [
       "<Figure size 432x288 with 1 Axes>"
      ]
     },
     "metadata": {
      "needs_background": "light"
     },
     "output_type": "display_data"
    }
   ],
   "source": [
    "sns.scatterplot(x = 'Age', y = 'Fare', hue = 'Survived', data = train_df)\n",
    "\n",
    "plt.show()"
   ]
  },
  {
   "cell_type": "markdown",
   "id": "61d72e91-0061-4e17-850e-9ec0ee486023",
   "metadata": {},
   "source": [
    "<b> Select and Split the Data:"
   ]
  },
  {
   "cell_type": "markdown",
   "id": "3720fc49-6f0c-47d9-b77e-789a48c1d5e9",
   "metadata": {
    "tags": []
   },
   "source": [
    "Now that we have cleaned our data, let’s select the `variables` we want to build our `model` on. I am going to select the `Survived` variable as the `labels` of the `training` `data` before creating the model. Then, the rest of the variables of the `training` `data` will be selected to use as `features` on model below."
   ]
  },
  {
   "cell_type": "code",
   "execution_count": 53,
   "id": "2d6316b9-6d4f-49d8-9172-4481d882027f",
   "metadata": {},
   "outputs": [],
   "source": [
    "features = train_df.iloc[:, 1:8]\n",
    "labels = train_df.loc[:, 'Survived']"
   ]
  },
  {
   "cell_type": "code",
   "execution_count": 54,
   "id": "cee83ce1-11b2-47e8-ad88-1b1fb035288e",
   "metadata": {},
   "outputs": [],
   "source": [
    "X_train, X_test, y_train, y_test = train_test_split(features, labels, test_size = .2, random_state = 1)"
   ]
  },
  {
   "cell_type": "markdown",
   "id": "4692f9f7-31db-4a92-a0fb-6223362544a0",
   "metadata": {},
   "source": [
    "<b> Normalizing or Standardizing the Data:"
   ]
  },
  {
   "cell_type": "markdown",
   "id": "8feca42e-296f-4c36-92f2-f7a958414d2a",
   "metadata": {},
   "source": [
    "After checking some visualizations above, we can see that we have some outliers in our dataset. Scikit-learn‘s `LogisticRegression` implementation uses `Regularization`. Many machine learning algorithms attempt to find trends in the data by comparing features of data points, however, there can be an issue when the features are on drastically different scales. The `goal` of `standardizing`  is to handle `outliers` and produce normalized data for every datapoint, so each feature is equally important. To normalize the data a `sklearn.preprocessing` package will be used to normalize values by using `.fit_transform()` and `.transform()`.\n",
    "\n",
    "Lastly, data points of the `test` `data` will be `normalized` for future `prediction` by using a `selected` `model`."
   ]
  },
  {
   "cell_type": "code",
   "execution_count": 55,
   "id": "fcb7a402-8d4a-45a0-b279-b2912785c10b",
   "metadata": {},
   "outputs": [],
   "source": [
    "scaler = StandardScaler()"
   ]
  },
  {
   "cell_type": "code",
   "execution_count": 56,
   "id": "5ecd2d26-5d65-4f99-b623-b0b6e79bdfd2",
   "metadata": {},
   "outputs": [],
   "source": [
    "# normalizing data points of training data\n",
    "X_train = scaler.fit_transform(X_train)\n",
    "X_test = scaler.transform(X_test)"
   ]
  },
  {
   "cell_type": "code",
   "execution_count": 57,
   "id": "727517f9-8959-41a0-980e-c0811aff1b73",
   "metadata": {
    "tags": []
   },
   "outputs": [],
   "source": [
    "# normalizing data points of test data\n",
    "test_df = scaler.fit_transform(test_df)"
   ]
  },
  {
   "cell_type": "markdown",
   "id": "b1c2ff3b-f6f5-4e8c-83a7-1b9039a749c2",
   "metadata": {},
   "source": [
    "# Choosing a Model, Tuning and Evaluating"
   ]
  },
  {
   "cell_type": "markdown",
   "id": "316730f5-8f2e-4335-ab29-c46391b0a977",
   "metadata": {},
   "source": [
    "<b> Logistic Regression:"
   ]
  },
  {
   "cell_type": "markdown",
   "id": "9f65d350-21cc-44fa-8870-81211ffb8f25",
   "metadata": {},
   "source": [
    "After normalizing the dataset we will create a `LogisticRegression` model using the `sklearn`'s `.fit()` command on the training data. Fitting the model will perform `gradient` `descent` to find `coefficients` of the `features` that `minimize` the `log-loss` for the training data.\n",
    "\n",
    "Training on the training set will be processed, then we will use the `.score()` command on the training and test sets. Scoring the model on the `training set` will run the data through the model and make final `classification`s on `survival` for each passenger in the `training set`. The returned `score` is the `percentage` of correct `classifications`, or the `accuracy`.\n",
    "\n",
    "Similarly, scoring the model on the `testing set` will run the data through the model and make final `classification`s on `survival` for each passenger in the `test set`.\n",
    "\n",
    "Finally, `coefficients` will be printed out by using `.coef_` function to see the `features` impact on each variable."
   ]
  },
  {
   "cell_type": "code",
   "execution_count": 58,
   "id": "7a04209c-a722-4a02-b37c-239c264e6139",
   "metadata": {},
   "outputs": [
    {
     "data": {
      "text/plain": [
       "LogisticRegression()"
      ]
     },
     "execution_count": 58,
     "metadata": {},
     "output_type": "execute_result"
    }
   ],
   "source": [
    "model = LogisticRegression()\n",
    "model.fit(X_train, y_train)"
   ]
  },
  {
   "cell_type": "code",
   "execution_count": 59,
   "id": "cdb48354-adcd-40f4-ab53-0b5fd4fa8808",
   "metadata": {},
   "outputs": [
    {
     "name": "stdout",
     "output_type": "stream",
     "text": [
      "Logistic Regression training set acc:  79.635 \n",
      "\n",
      "Logistic Regression test set acc:  79.888\n"
     ]
    }
   ],
   "source": [
    "print('Logistic Regression training set acc: ',round(model.score(X_train, y_train)*100, 3), '\\n')  \n",
    "print('Logistic Regression test set acc: ',round(model.score(X_test, y_test)*100, 3))"
   ]
  },
  {
   "cell_type": "code",
   "execution_count": 60,
   "id": "4ed48254-b916-49b2-a402-58cd9a3d0769",
   "metadata": {},
   "outputs": [
    {
     "name": "stdout",
     "output_type": "stream",
     "text": [
      "Features coefficients:  \n",
      " [[-0.99332224 -1.29491216 -0.53124361 -0.34972992  0.01290545  0.01050577\n",
      "  -0.17086706]]\n"
     ]
    }
   ],
   "source": [
    "print('Features coefficients: ', '\\n', model.coef_)"
   ]
  },
  {
   "cell_type": "markdown",
   "id": "10eb8ee9-ea86-4545-ba8b-5b21a25e6d3c",
   "metadata": {},
   "source": [
    "<b>After checking the different features and determining the model accuracy using `LogisticRegression` in the dataset above, it can be better to compare our model with other `classification` `algorithms` to see if we have any higher `accuracies` than the previous one.\n",
    "\n",
    "It will be checked below techniques; \n",
    "- `K-Nearest Neighbors (KNN) Classifier`\n",
    "- `Support Vector Machine (SVM) Classifier`\n",
    "- `Decision Tree Classifier`\n",
    "- `Random Forest Classifier`"
   ]
  },
  {
   "cell_type": "markdown",
   "id": "f87263e4-0fde-4ea4-b43b-1f51fb59e1de",
   "metadata": {},
   "source": [
    "<b> K-Nearest Neighbors (KNN) Classifier:"
   ]
  },
  {
   "cell_type": "code",
   "execution_count": 61,
   "id": "ab153d3c-50bd-40f4-822f-9748deb33398",
   "metadata": {},
   "outputs": [
    {
     "data": {
      "image/png": "[encoded data removed]",
      "text/plain": [
       "<Figure size 432x288 with 1 Axes>"
      ]
     },
     "metadata": {
      "needs_background": "light"
     },
     "output_type": "display_data"
    }
   ],
   "source": [
    "# finding the best optimized value\n",
    "knn_scores = []\n",
    "for i in range(1, 20):\n",
    "    knn_clf = KNeighborsClassifier(n_neighbors = i)\n",
    "    knn_clf.fit(X_train, y_train)\n",
    "    knn_scores.append(knn_clf.score(X_test, y_test))\n",
    "    \n",
    "# plotting to check best vvalue\n",
    "plt.plot(range(1, 20), knn_scores)\n",
    "\n",
    "plt.title('KNN Classifier')\n",
    "plt.xlabel('K')\n",
    "plt.ylabel('KNN scores')\n",
    "\n",
    "plt.show()"
   ]
  },
  {
   "cell_type": "code",
   "execution_count": 62,
   "id": "98cf15ba-56a8-4964-a786-ced7ea2c25c3",
   "metadata": {},
   "outputs": [
    {
     "data": {
      "text/plain": [
       "KNeighborsClassifier(n_neighbors=11)"
      ]
     },
     "execution_count": 62,
     "metadata": {},
     "output_type": "execute_result"
    }
   ],
   "source": [
    "# create and train model\n",
    "knn_clf = KNeighborsClassifier(n_neighbors = 11)\n",
    "knn_clf.fit(X_train, y_train)"
   ]
  },
  {
   "cell_type": "code",
   "execution_count": 63,
   "id": "5c6a36f4-7960-4ca7-b39e-7551feb0dade",
   "metadata": {},
   "outputs": [],
   "source": [
    "# predicted classifications from the test data\n",
    "knn_y_pred = knn_clf.predict(X_test)"
   ]
  },
  {
   "cell_type": "code",
   "execution_count": 64,
   "id": "49246101-b683-4dbe-8873-2bcfbd9624c8",
   "metadata": {},
   "outputs": [
    {
     "name": "stdout",
     "output_type": "stream",
     "text": [
      "KNN accuracy: 79.888\n"
     ]
    }
   ],
   "source": [
    "# defining model accuracy \n",
    "print('KNN accuracy: ' + str(round(accuracy_score(knn_y_pred, y_test)*100, 3)))"
   ]
  },
  {
   "cell_type": "markdown",
   "id": "bd44ee1e-0730-4d3b-83fc-18d243691528",
   "metadata": {},
   "source": [
    "<b> Support Vector Machine (SVM) Classifier:"
   ]
  },
  {
   "cell_type": "code",
   "execution_count": 65,
   "id": "2f3314ee-bb5f-4999-9f51-36a60be8c4a3",
   "metadata": {},
   "outputs": [
    {
     "name": "stdout",
     "output_type": "stream",
     "text": [
      "SVM acc before best values:  0.7262569832402235 \n",
      "\n",
      "Best values for SVM:  {'accuracy': 0.788, 'gamma': 1, 'C': 8}\n"
     ]
    }
   ],
   "source": [
    "#finding the best optimized values\n",
    "largest = {'accuracy': 0, 'gamma': 1, 'C': 1}\n",
    "\n",
    "for gamma in range(1, 10):\n",
    "    for C in range(1, 10):\n",
    "        svm_clf = SVC(kernel = 'rbf', gamma = gamma, C = C)\n",
    "        svm_clf.fit(X_train, y_train)\n",
    "        score = svm_clf.score(X_test, y_test)\n",
    "                    \n",
    "        if(score > largest['accuracy']):\n",
    "            largest['accuracy'] = round(score, 3)\n",
    "            largest['gamma'] = gamma\n",
    "            largest['C'] = C\n",
    "            \n",
    "print('SVM acc before best values: ', svm_clf.score(X_test, y_test), '\\n')\n",
    "print('Best values for SVM: ', largest)"
   ]
  },
  {
   "cell_type": "code",
   "execution_count": 66,
   "id": "4d026cf6-ec5f-40e7-976d-d9ae1b0d2354",
   "metadata": {},
   "outputs": [
    {
     "data": {
      "text/plain": [
       "SVC(C=8, gamma=1)"
      ]
     },
     "execution_count": 66,
     "metadata": {},
     "output_type": "execute_result"
    }
   ],
   "source": [
    "# create and train model\n",
    "svm_clf = SVC(kernel = 'rbf', gamma = 1, C = 8)\n",
    "svm_clf.fit(X_train, y_train)"
   ]
  },
  {
   "cell_type": "code",
   "execution_count": 67,
   "id": "30414407-097f-45e7-ab5a-dde471cd3e2e",
   "metadata": {},
   "outputs": [],
   "source": [
    "# predicted classifications from the test data\n",
    "svm_y_pred = svm_clf.predict(X_test)"
   ]
  },
  {
   "cell_type": "code",
   "execution_count": 68,
   "id": "6b1a99f7-fdb4-41a9-afc0-e29af38e515a",
   "metadata": {},
   "outputs": [
    {
     "name": "stdout",
     "output_type": "stream",
     "text": [
      "SVM accuracy: 78.771\n"
     ]
    }
   ],
   "source": [
    "# defining model accuracy \n",
    "print('SVM accuracy: ' + str(round(accuracy_score(svm_y_pred, y_test)*100, 3)))"
   ]
  },
  {
   "cell_type": "markdown",
   "id": "0d5cb596-be86-4897-aba7-19698383fabd",
   "metadata": {},
   "source": [
    "<b> Decision Tree Classifier:"
   ]
  },
  {
   "cell_type": "code",
   "execution_count": 69,
   "id": "09f9cb7c-d144-4cf2-b222-7d8fb7662452",
   "metadata": {},
   "outputs": [
    {
     "data": {
      "image/png": "[encoded data removed]",
      "text/plain": [
       "<Figure size 432x288 with 1 Axes>"
      ]
     },
     "metadata": {
      "needs_background": "light"
     },
     "output_type": "display_data"
    }
   ],
   "source": [
    "#checking the best optimised tree\n",
    "scores = []\n",
    "for i in range(1, 20):\n",
    "    classifier = DecisionTreeClassifier(max_depth = i)\n",
    "    classifier.fit(X_train, y_train)\n",
    "    scores.append(classifier.score(X_test, y_test))\n",
    "\n",
    "    \n",
    "# plotting to check best value\n",
    "plt.plot(range(1, 20), scores)\n",
    "\n",
    "plt.title('Decision Tree Classifier')\n",
    "plt.xlabel('Tree')\n",
    "plt.ylabel('Scores')\n",
    "\n",
    "plt.show()"
   ]
  },
  {
   "cell_type": "code",
   "execution_count": 70,
   "id": "46e7facc-fadc-4172-9bdb-d0e08e1c6893",
   "metadata": {},
   "outputs": [
    {
     "data": {
      "text/plain": [
       "DecisionTreeClassifier(max_depth=3)"
      ]
     },
     "execution_count": 70,
     "metadata": {},
     "output_type": "execute_result"
    }
   ],
   "source": [
    "# create and train model\n",
    "classifier = DecisionTreeClassifier(max_depth = 3)\n",
    "classifier.fit(X_train, y_train)"
   ]
  },
  {
   "cell_type": "code",
   "execution_count": 71,
   "id": "0c106903-6e7f-42b6-913e-c7deef361202",
   "metadata": {},
   "outputs": [],
   "source": [
    "# predicted classifications from the test data\n",
    "dtr_y_pred = classifier.predict(X_test)"
   ]
  },
  {
   "cell_type": "code",
   "execution_count": 72,
   "id": "ecee3d87-2e3e-4fb7-b596-354f19dec21d",
   "metadata": {},
   "outputs": [
    {
     "name": "stdout",
     "output_type": "stream",
     "text": [
      "Decision Tree acc: 80.447\n"
     ]
    }
   ],
   "source": [
    "# defining model accuracy \n",
    "print('Decision Tree acc: ' + str(round(accuracy_score(dtr_y_pred, y_test)*100, 3)))"
   ]
  },
  {
   "cell_type": "markdown",
   "id": "f08e47b3-a32d-4c1a-90e6-9289df1c9061",
   "metadata": {},
   "source": [
    "<b> Random Forest Classifier:"
   ]
  },
  {
   "cell_type": "code",
   "execution_count": 73,
   "id": "8a72cf89-b0b0-4110-ab88-c859a84fde2b",
   "metadata": {},
   "outputs": [
    {
     "data": {
      "image/png": "[encoded data removed]",
      "text/plain": [
       "<Figure size 432x288 with 1 Axes>"
      ]
     },
     "metadata": {
      "needs_background": "light"
     },
     "output_type": "display_data"
    }
   ],
   "source": [
    "#checking the best optimised value\n",
    "rfr_scores = []\n",
    "for i in range(1, 30):\n",
    "    rfr = RandomForestClassifier(n_estimators = i)\n",
    "    rfr.fit(X_train, y_train)\n",
    "    rfr_scores.append(rfr.score(X_test, y_test))\n",
    "\n",
    "\n",
    "# plotting to check best value\n",
    "plt.plot(range(1, 30), rfr_scores)\n",
    "\n",
    "plt.title('Random Forest Classifier')\n",
    "plt.xlabel('Best value')\n",
    "plt.ylabel('Scores')\n",
    "\n",
    "plt.show()"
   ]
  },
  {
   "cell_type": "code",
   "execution_count": 77,
   "id": "76736795-fe84-4e12-aad7-7d2b1008511f",
   "metadata": {},
   "outputs": [
    {
     "data": {
      "text/plain": [
       "RandomForestClassifier(n_estimators=18)"
      ]
     },
     "execution_count": 77,
     "metadata": {},
     "output_type": "execute_result"
    }
   ],
   "source": [
    "# create and train model\n",
    "rfr = RandomForestClassifier(n_estimators = 18)\n",
    "rfr.fit(X_train, y_train)"
   ]
  },
  {
   "cell_type": "code",
   "execution_count": 78,
   "id": "5900b74c-4f4e-458d-b608-e53828f45e0c",
   "metadata": {},
   "outputs": [],
   "source": [
    "# predicted classifications from the test data\n",
    "rfr_y_pred = rfr.predict(X_test)"
   ]
  },
  {
   "cell_type": "code",
   "execution_count": 79,
   "id": "856b8bc3-68fc-4baf-af5b-eebe0e17789f",
   "metadata": {},
   "outputs": [
    {
     "name": "stdout",
     "output_type": "stream",
     "text": [
      "Random Forest acc: 78.212\n"
     ]
    }
   ],
   "source": [
    "print('Random Forest acc: ' + str(round(accuracy_score(rfr_y_pred, y_test)*100, 3)))"
   ]
  },
  {
   "cell_type": "markdown",
   "id": "f0a5789c-8b9f-4f9d-ab32-64966fe110ba",
   "metadata": {},
   "source": [
    "# Using the Model and Predicting Results"
   ]
  },
  {
   "cell_type": "markdown",
   "id": "f2055007-fa4b-4ef1-b5ee-85507dc7dcc0",
   "metadata": {},
   "source": [
    "After checking all coefficients of features and seeing the accuracy of the model using `.predict()` and `.score()`methods, we see that all accuracies are higher than `75` percentage. Despite multiple classification algorithms above, `DecisionTreeClassifier` can consider proper result.\n",
    "\n",
    "In summary, we can classify new data samples belonging to positive or negative classes with their labels. The variables in `test` data store `7` features in the following order:\n",
    "\n",
    "- `PClass`, with a `1` indicating the passenger is in `first class`, `2` indicating the passenger is in `second class` and `3` indicating the passenger is in `third class`\n",
    "- `Sex`, represented by a `0` for `female` and `1` for `male`\n",
    "- `Age`, represented as a float in years\n",
    "- `SibSp`, represented number of siblings as an integer \n",
    "- `Parch`, represented number of parents as an integer\n",
    "- `Fare`, represented passenger trip fares as a float\n",
    "- `Embarked`, represented Port of Embarkation as an integer"
   ]
  },
  {
   "cell_type": "code",
   "execution_count": 81,
   "id": "5775b4ad-900e-44bb-b8f5-f5f26a8ee9b1",
   "metadata": {},
   "outputs": [
    {
     "data": {
      "text/plain": [
       "DecisionTreeClassifier(max_depth=3)"
      ]
     },
     "execution_count": 81,
     "metadata": {},
     "output_type": "execute_result"
    }
   ],
   "source": [
    "# create and train model\n",
    "classifier = DecisionTreeClassifier(max_depth = 3)\n",
    "classifier.fit(X_train, y_train)"
   ]
  },
  {
   "cell_type": "code",
   "execution_count": 82,
   "id": "44a625a1-8042-42ae-b376-19b33a0cb247",
   "metadata": {},
   "outputs": [],
   "source": [
    "# using model to predict test data\n",
    "predictions = classifier.predict(test_df).reshape(len(test_df))"
   ]
  },
  {
   "cell_type": "code",
   "execution_count": 83,
   "id": "8b91957d-1755-4942-8cd0-3645226bed96",
   "metadata": {},
   "outputs": [
    {
     "data": {
      "text/plain": [
       "array([0, 1, 0, 0, 1, 1, 1, 0, 1, 0, 0, 0, 1, 0, 1, 1, 0, 0, 1, 1, 0, 1,\n",
       "       1, 0, 1, 0, 1, 0, 0, 0, 0, 0, 1, 1, 0, 0, 1, 1, 0, 0, 0, 0, 0, 1,\n",
       "       1, 0, 0, 0, 1, 1, 0, 0, 1, 1, 0, 0, 0, 0, 0, 1, 0, 0, 0, 1, 1, 1,\n",
       "       1, 0, 0, 1, 1, 0, 1, 0, 1, 0, 0, 1, 0, 1, 1, 0, 0, 0, 0, 0, 1, 1,\n",
       "       1, 1, 1, 0, 1, 0, 0, 0, 1, 0, 1, 0, 1, 0, 0, 0, 1, 0, 0, 0, 0, 0,\n",
       "       0, 1, 1, 1, 1, 0, 0, 1, 0, 1, 1, 0, 1, 0, 0, 1, 0, 1, 0, 0, 0, 0,\n",
       "       0, 0, 0, 0, 0, 0, 1, 0, 0, 1, 0, 0, 0, 0, 0, 0, 0, 0, 1, 0, 0, 1,\n",
       "       0, 0, 1, 1, 0, 1, 1, 1, 1, 0, 0, 1, 0, 0, 1, 1, 0, 0, 0, 0, 0, 1,\n",
       "       1, 0, 1, 1, 0, 0, 1, 0, 1, 0, 1, 0, 0, 0, 0, 0, 1, 0, 1, 0, 1, 1,\n",
       "       0, 1, 1, 1, 0, 1, 0, 0, 1, 0, 1, 0, 0, 0, 0, 1, 1, 0, 1, 0, 1, 0,\n",
       "       1, 0, 1, 0, 1, 1, 0, 1, 0, 0, 1, 1, 0, 0, 0, 0, 0, 0, 1, 1, 1, 1,\n",
       "       0, 0, 0, 0, 1, 0, 1, 1, 0, 0, 0, 0, 0, 0, 0, 0, 1, 0, 0, 0, 1, 1,\n",
       "       0, 0, 0, 0, 1, 0, 0, 0, 1, 1, 0, 1, 0, 0, 0, 0, 1, 1, 1, 1, 1, 0,\n",
       "       0, 0, 0, 0, 0, 1, 0, 0, 0, 0, 0, 0, 0, 0, 0, 0, 0, 0, 1, 1, 0, 1,\n",
       "       0, 1, 0, 0, 0, 1, 1, 1, 0, 0, 0, 0, 0, 0, 0, 0, 1, 0, 1, 0, 0, 0,\n",
       "       1, 0, 0, 1, 0, 0, 0, 0, 0, 0, 0, 0, 0, 1, 0, 1, 0, 1, 0, 1, 1, 0,\n",
       "       0, 0, 1, 0, 1, 0, 0, 1, 0, 1, 1, 0, 1, 0, 0, 0, 1, 0, 0, 1, 0, 0,\n",
       "       1, 1, 1, 0, 0, 0, 0, 0, 1, 1, 0, 1, 0, 0, 0, 0, 0, 1, 1, 0, 0, 1,\n",
       "       0, 1, 0, 0, 1, 0, 1, 0, 0, 0, 0, 0, 1, 1, 1, 1, 1, 0, 1, 0, 0, 0],\n",
       "      dtype=int64)"
      ]
     },
     "execution_count": 83,
     "metadata": {},
     "output_type": "execute_result"
    }
   ],
   "source": [
    "predictions"
   ]
  },
  {
   "cell_type": "code",
   "execution_count": 92,
   "id": "d4a0b6eb-cc77-49c4-a277-14c8ab4cc21b",
   "metadata": {},
   "outputs": [],
   "source": [
    "# defining DataFrame and name the columns\n",
    "df = pd.DataFrame(\n",
    "    {\n",
    "    'PassengerId': pred_indexes,\n",
    "    'Survived': predictions.astype('int')\n",
    "    })"
   ]
  },
  {
   "cell_type": "code",
   "execution_count": 93,
   "id": "2716589c-f3fc-4bb1-96d6-f30f898bbd5d",
   "metadata": {},
   "outputs": [
    {
     "data": {
      "text/html": [
       "<div>\n",
       "<style scoped>\n",
       "    .dataframe tbody tr th:only-of-type {\n",
       "        vertical-align: middle;\n",
       "    }\n",
       "\n",
       "    .dataframe tbody tr th {\n",
       "        vertical-align: top;\n",
       "    }\n",
       "\n",
       "    .dataframe thead th {\n",
       "        text-align: right;\n",
       "    }\n",
       "</style>\n",
       "<table border=\"1\" class=\"dataframe\">\n",
       "  <thead>\n",
       "    <tr style=\"text-align: right;\">\n",
       "      <th></th>\n",
       "      <th>PassengerId</th>\n",
       "      <th>Survived</th>\n",
       "    </tr>\n",
       "  </thead>\n",
       "  <tbody>\n",
       "    <tr>\n",
       "      <th>0</th>\n",
       "      <td>892</td>\n",
       "      <td>0</td>\n",
       "    </tr>\n",
       "    <tr>\n",
       "      <th>1</th>\n",
       "      <td>893</td>\n",
       "      <td>1</td>\n",
       "    </tr>\n",
       "    <tr>\n",
       "      <th>2</th>\n",
       "      <td>894</td>\n",
       "      <td>0</td>\n",
       "    </tr>\n",
       "    <tr>\n",
       "      <th>3</th>\n",
       "      <td>895</td>\n",
       "      <td>0</td>\n",
       "    </tr>\n",
       "    <tr>\n",
       "      <th>4</th>\n",
       "      <td>896</td>\n",
       "      <td>1</td>\n",
       "    </tr>\n",
       "    <tr>\n",
       "      <th>...</th>\n",
       "      <td>...</td>\n",
       "      <td>...</td>\n",
       "    </tr>\n",
       "    <tr>\n",
       "      <th>413</th>\n",
       "      <td>1305</td>\n",
       "      <td>0</td>\n",
       "    </tr>\n",
       "    <tr>\n",
       "      <th>414</th>\n",
       "      <td>1306</td>\n",
       "      <td>1</td>\n",
       "    </tr>\n",
       "    <tr>\n",
       "      <th>415</th>\n",
       "      <td>1307</td>\n",
       "      <td>0</td>\n",
       "    </tr>\n",
       "    <tr>\n",
       "      <th>416</th>\n",
       "      <td>1308</td>\n",
       "      <td>0</td>\n",
       "    </tr>\n",
       "    <tr>\n",
       "      <th>417</th>\n",
       "      <td>1309</td>\n",
       "      <td>0</td>\n",
       "    </tr>\n",
       "  </tbody>\n",
       "</table>\n",
       "<p>418 rows × 2 columns</p>\n",
       "</div>"
      ],
      "text/plain": [
       "     PassengerId  Survived\n",
       "0            892         0\n",
       "1            893         1\n",
       "2            894         0\n",
       "3            895         0\n",
       "4            896         1\n",
       "..           ...       ...\n",
       "413         1305         0\n",
       "414         1306         1\n",
       "415         1307         0\n",
       "416         1308         0\n",
       "417         1309         0\n",
       "\n",
       "[418 rows x 2 columns]"
      ]
     },
     "execution_count": 93,
     "metadata": {},
     "output_type": "execute_result"
    }
   ],
   "source": [
    "df"
   ]
  },
  {
   "cell_type": "markdown",
   "id": "95a5e506-0a63-42b8-84d5-d408bc34d89f",
   "metadata": {},
   "source": [
    "<b> In conclusion, predicted results will be saved in a file named `submission.csv` with the `PassengerId` and `Survived` variables."
   ]
  },
  {
   "cell_type": "code",
   "execution_count": 94,
   "id": "b97f9787-4dc4-4422-a530-33fa8f56f80a",
   "metadata": {},
   "outputs": [],
   "source": [
    "df.to_csv('submission.csv', index = False)"
   ]
  }
 ],
 "metadata": {
  "kernelspec": {
   "display_name": "Python 3",
   "language": "python",
   "name": "python3"
  },
  "language_info": {
   "codemirror_mode": {
    "name": "ipython",
    "version": 3
   },
   "file_extension": ".py",
   "mimetype": "text/x-python",
   "name": "python",
   "nbconvert_exporter": "python",
   "pygments_lexer": "ipython3",
   "version": "3.9.1"
  }
 },
 "nbformat": 4,
 "nbformat_minor": 5
}
